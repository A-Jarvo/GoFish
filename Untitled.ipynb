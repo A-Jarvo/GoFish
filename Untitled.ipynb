{
 "cells": [
  {
   "cell_type": "code",
   "execution_count": 46,
   "metadata": {},
   "outputs": [],
   "source": [
    "using Cubature\n",
    "using DelimitedFiles\n",
    "using Interpolations\n",
    "using Plots\n",
    "using LinearAlgebra\n",
    "using Optim"
   ]
  },
  {
   "cell_type": "code",
   "execution_count": 47,
   "metadata": {},
   "outputs": [
    {
     "data": {
      "text/plain": [
       "covP (generic function with 1 method)"
      ]
     },
     "execution_count": 47,
     "metadata": {},
     "output_type": "execute_result"
    }
   ],
   "source": [
    "function covP(μ,k,b,f,G,n)\n",
    "    cov = ((b + μ^2*f)^2*P(k)*G^2 + 1/n)^2\n",
    "    return cov\n",
    "end"
   ]
  },
  {
   "cell_type": "code",
   "execution_count": 48,
   "metadata": {},
   "outputs": [
    {
     "data": {
      "text/plain": [
       "dPda (generic function with 2 methods)"
      ]
     },
     "execution_count": 48,
     "metadata": {},
     "output_type": "execute_result"
    }
   ],
   "source": [
    "function dPda(μ,k,b,f,G,BAOonly=true)\n",
    "    der = zeros(4)\n",
    "    der[1] = 2*(b + μ^2*f)*P(k)\n",
    "    der[2] = 2*μ^2*(b + μ^2*f)*P(k)\n",
    "    # dP/da terms followed by d(b+mu^2*f)^2/da terms\n",
    "    if BAOonly\n",
    "        der[3] = (b + μ^2*f)^2*dPBAO(k)*μ^2*k\n",
    "        der[4] = (b + μ^2*f)^2*dPBAO(k)*(1-μ^2)*k\n",
    "    else\n",
    "        der[3] = (b + μ^2*f)^2*dP(k)*μ^2*k + μ*(1 - μ^2)*2*(b + μ^2*f)*2*μ*f*P(k)\n",
    "        der[4] = (b + μ^2*f)^2*dP(k)*(1-μ^2)*k - μ*(1 - μ^2)*2*(b + μ^2*f)*2*μ*f*P(k)\n",
    "    end\n",
    "    return der*G^2\n",
    "end"
   ]
  },
  {
   "cell_type": "code",
   "execution_count": 49,
   "metadata": {},
   "outputs": [
    {
     "data": {
      "text/plain": [
       "Fisher (generic function with 4 methods)"
      ]
     },
     "execution_count": 49,
     "metadata": {},
     "output_type": "execute_result"
    }
   ],
   "source": [
    "function Fisher(μ,k,b,f,G,Spar,Sper,n,i,j,BAOonly=true)\n",
    "    result = dPda(μ,k,b,f,G,BAOonly)[i]*dPda(μ,k,b,f,G,BAOonly)[j]\n",
    "    result /= covP(μ,k,b,f,G,n)\n",
    "    result *= exp(-(1-μ^2)*k^2*Sper^2/2 -μ^2*k^2*Spar^2/2)\n",
    "    return result\n",
    "end"
   ]
  },
  {
   "cell_type": "code",
   "execution_count": 50,
   "metadata": {},
   "outputs": [
    {
     "data": {
      "text/plain": [
       "forecast (generic function with 2 methods)"
      ]
     },
     "execution_count": 50,
     "metadata": {},
     "output_type": "execute_result"
    }
   ],
   "source": [
    "function forecast(b,f,G,Spar,Sper,n,V,BAOonly=true)\n",
    "    kmin = 0.01\n",
    "    kmax = 0.2\n",
    "    μmin = 0\n",
    "    μmax = 1\n",
    "    fisher = zeros(4,4)\n",
    "    for i=1:4\n",
    "        for j=1:4        \n",
    "            # dPda*icovP*dPda, x[1] is μ, x[2] is k        \n",
    "            f_fisher(x) = Fisher(x[1],x[2],b,f,G,Spar,Sper,n,i,j,BAOonly)\n",
    "            fisher[i,j] = hcubature(f_fisher,[μmin,kmin],[μmax,kmax], reltol=1e-3)[1]*V/(2*π)^2\n",
    "        end\n",
    "    end\n",
    "    return fisher\n",
    "end"
   ]
  },
  {
   "cell_type": "code",
   "execution_count": 51,
   "metadata": {},
   "outputs": [
    {
     "name": "stdout",
     "output_type": "stream",
     "text": [
      "[0.42271998415195433, 0.2888262317037433]"
     ]
    }
   ],
   "source": [
    "fish = forecast(2,0.8,0.6,10,8,1e-4,2.9e9,true)\n",
    "print(100*sqrt.(diag(inv(fish[3:4,3:4]))))"
   ]
  },
  {
   "cell_type": "code",
   "execution_count": 268,
   "metadata": {},
   "outputs": [
    {
     "data": {
      "text/plain": [
       "growth"
      ]
     },
     "execution_count": 268,
     "metadata": {},
     "output_type": "execute_result"
    }
   ],
   "source": [
    "\"\"\"\n",
    "Growth rate\n",
    "\"\"\"\n",
    "function growth(Om, z)\n",
    "    f(x) = (Om*(1 + x)^3/(Om*(1 + x)^3 + 1 - Om))^0.55\n",
    "    G = exp(-hquadrature(f, 0, z, reltol=1e-3)[1])\n",
    "    return G, f(z)\n",
    "end"
   ]
  },
  {
   "cell_type": "code",
   "execution_count": 11,
   "metadata": {},
   "outputs": [
    {
     "data": {
      "text/plain": [
       "best_smooth_P_params"
      ]
     },
     "execution_count": 11,
     "metadata": {},
     "output_type": "execute_result"
    }
   ],
   "source": [
    "\"\"\"\n",
    "Smooth Pk\n",
    "\"\"\"\n",
    "function smooth_P(k, par)\n",
    "    keq, A, a0, a2, a4 = par\n",
    "    q = k./keq\n",
    "    L = log.(2*exp(1.0) .+ 1.8.*q)\n",
    "    C = 14.2 .+ 731.0./(1 .+ 62.5.*q)\n",
    "    T = L./(L .+ C.*q.^2)\n",
    "    return A.*(k.*T.^2 .+ a0 + a2*k.^2 + a4*k.^4)\n",
    "end\n",
    "\n",
    "\"\"\"\n",
    "Find best fit parameters of smooth Pk for Pt\n",
    "\"\"\"\n",
    "function best_smooth_P_params(k, Pt)\n",
    "    chi2(x) = sum((Pt - smooth_P(k, x)).^2 .* k.^2)\n",
    "    opt = Optim.minimizer(optimize(chi2, [0.6, 60000, 0, 0, 0]))\n",
    "    return opt\n",
    "end"
   ]
  },
  {
   "cell_type": "code",
   "execution_count": 269,
   "metadata": {},
   "outputs": [
    {
     "data": {
      "text/plain": [
       "recon (generic function with 1 method)"
      ]
     },
     "execution_count": 269,
     "metadata": {},
     "output_type": "execute_result"
    }
   ],
   "source": [
    "\"\"\"\n",
    "Effectiveness of reconstruction\n",
    "\"\"\"\n",
    "nP = [0, 0.2, 0.3, 0.5, 1.0, 2.0, 3.0, 6.0, 10.0]\n",
    "r_factor = [1.0, 1.0, 0.9, 0.8, 0.70, 0.6, 0.55, 0.52, 0.5]\n",
    "r_itp = interpolate((nP,), r_factor, Gridded(Linear()))\n",
    "function recon(np)\n",
    "    return r_itp(np)\n",
    "end"
   ]
  },
  {
   "cell_type": "code",
   "execution_count": 320,
   "metadata": {},
   "outputs": [
    {
     "data": {
      "text/plain": [
       "damping (generic function with 2 methods)"
      ]
     },
     "execution_count": 320,
     "metadata": {},
     "output_type": "execute_result"
    }
   ],
   "source": [
    "function damping(μ,k,z,np,Om,s8)\n",
    "    G, f = growth(Om, z)\n",
    "    S_per = 9.4*s8/0.9*G\n",
    "    S_par = (1 + f)*S_per\n",
    "    Dpar = μ^2*k^2*S_par^2\n",
    "    Dper = (1-μ^2)*k^2*S_per^2\n",
    "    rfact = recon(np)\n",
    "    #rfact = 1\n",
    "    Dfactor = exp(-rfact^2*(Dpar + Dper)/2)\n",
    "    #Dfactor = 1\n",
    "    return Dfactor\n",
    "end "
   ]
  },
  {
   "cell_type": "code",
   "execution_count": 12,
   "metadata": {},
   "outputs": [
    {
     "data": {
      "text/plain": [
       "dPBAO (generic function with 1 method)"
      ]
     },
     "execution_count": 12,
     "metadata": {},
     "output_type": "execute_result"
    }
   ],
   "source": [
    "Pk_class = readdlm(\"/mnt/c/Users/colkh/Documents/Programs/class_public/output/desi_pk.dat\",comments=true)\n",
    "P_itp = interpolate((Pk_class[:,1],), Pk_class[:,2], Gridded(Linear()))\n",
    "\n",
    "function P(k)\n",
    "    return P_itp(k)\n",
    "end\n",
    "\n",
    "k = collect(0.00005:0.00001:0.3)\n",
    "par = best_smooth_P_params(k, P(k))\n",
    "Pbao_itp = interpolate((k,), P(k) .- smooth_P(k, par), Gridded(Linear()))\n",
    "\n",
    "function PBAO(k)\n",
    "    return Pbao_itp(k)\n",
    "end\n",
    "\n",
    "function dP(k)\n",
    "    return (P(k.+0.001) .- P(k))/0.001\n",
    "end\n",
    "\n",
    "function dPBAO(k)\n",
    "    return (PBAO(k.+0.001) .- PBAO(k))/0.001\n",
    "end"
   ]
  },
  {
   "cell_type": "code",
   "execution_count": 275,
   "metadata": {},
   "outputs": [],
   "source": [
    "Vdesi = [2.63, 3.15, 3.65, 4.1, 4.52, 4.89, 5.22, 5.5, 5.75, 5.97, 6.15, 6.3, 6.43]*1e9\n",
    "nPdesi = [6.23, 9.25, 5.98, 3.88, 1.95, 1.59, 1.41, 0.61, 0.53, 0.40, 0.22, 0.12, 0.12]\n",
    "zdesi = [0.65,0.75,0.85,0.95,1.05,1.15,1.25,1.35,1.45,1.55,1.65,1.75,1.85]\n",
    "Nelg = [309, 2269, 1923, 2094, 1441, 1353, 1337, 523, 466, 329, 126, 0.1, 0.1]\n",
    "Nelg = Nelg*14000*0.1 ./Vdesi;"
   ]
  },
  {
   "cell_type": "code",
   "execution_count": 329,
   "metadata": {},
   "outputs": [
    {
     "name": "stdout",
     "output_type": "stream",
     "text": [
      "0.7534837687224551\n",
      "0.669283220329987\n",
      "0.6150367971526447\n",
      "0.5751785924975725\n",
      "0.5513601648605106\n",
      "0.5270231540741982\n",
      "0.5040694242021913\n",
      "0.4991101011942829\n",
      "0.48118704333626244\n",
      "0.47023475066147796\n",
      "0.4679881183268801\n",
      "0.45599336234766813\n",
      "0.4444487977293381\n"
     ]
    }
   ],
   "source": [
    "# my volume\n",
    "s8 = 0.84\n",
    "Om = 0.3\n",
    "for i=1:length(Vdesi)\n",
    "    G, f = growth(Om, zdesi[i])\n",
    "    b = 0.84/G\n",
    "    #V = volume_bin(zdesi[i]-0.05,zdesi[i]+0.05,Om)*14000/41252\n",
    "    fish = forecast(b,f,G,P,dPBAO,Vdesi[i],10000,Om,zdesi[i],nPdesi[i],s8)\n",
    "    #println(100*sqrt.(diag(inv(fish)[3:4,3:4])))\n",
    "    e1, e2 = eigvals(inv(fish)[3:4,3:4])\n",
    "    println(100*sqrt(e1*e2/(e1+e2)))\n",
    "end"
   ]
  },
  {
   "cell_type": "code",
   "execution_count": 307,
   "metadata": {},
   "outputs": [
    {
     "data": {
      "text/plain": [
       "volume_bin (generic function with 1 method)"
      ]
     },
     "execution_count": 307,
     "metadata": {},
     "output_type": "execute_result"
    }
   ],
   "source": [
    "\"\"\" \n",
    "In Mpc/h \n",
    "\"\"\"\n",
    "function distance(z, Om)\n",
    "    return hquadrature(z -> 2998.0/sqrt(Om*(1 +z)^3 + 1 - Om), 0, z, reltol=1e-3)[1]\n",
    "end\n",
    "\n",
    "function volume_bin(zmin, zmax, Om)\n",
    "    rmax = distance(zmax, Om)\n",
    "    rmin = distance(zmin, Om)\n",
    "    volume = 4*pi/3*(rmax^3 - rmin^3)\n",
    "    return volume\n",
    "end "
   ]
  },
  {
   "cell_type": "code",
   "execution_count": 331,
   "metadata": {},
   "outputs": [
    {
     "ename": "UndefVarError",
     "evalue": "UndefVarError: not not defined",
     "output_type": "error",
     "traceback": [
      "UndefVarError: not not defined",
      "",
      "Stacktrace:",
      " [1] top-level scope at In[331]:1"
     ]
    }
   ],
   "source": [
    "if not 2+2==5\n",
    "    print(\"hey\")\n",
    "end"
   ]
  },
  {
   "cell_type": "code",
   "execution_count": null,
   "metadata": {},
   "outputs": [],
   "source": []
  }
 ],
 "metadata": {
  "kernelspec": {
   "display_name": "Julia 1.4.1",
   "language": "julia",
   "name": "julia-1.4"
  },
  "language_info": {
   "file_extension": ".jl",
   "mimetype": "application/julia",
   "name": "julia",
   "version": "1.4.1"
  }
 },
 "nbformat": 4,
 "nbformat_minor": 4
}
